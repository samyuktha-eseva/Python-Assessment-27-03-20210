{
 "cells": [
  {
   "cell_type": "code",
   "execution_count": 23,
   "metadata": {},
   "outputs": [
    {
     "name": "stdout",
     "output_type": "stream",
     "text": [
      "[200, 198, 196, 194, 192, 190, 188, 186, 184, 182, 180, 178, 176, 174, 172, 170, 168, 166, 164, 162, 160, 158, 156, 154, 152, 150, 148, 146, 144, 142, 140, 138, 136, 134, 132, 130, 128, 126, 124, 122, 120, 118, 116, 114, 112, 110, 108, 106, 104, 102, 100]\n",
      "0     200\n",
      "1     198\n",
      "2     196\n",
      "3     194\n",
      "4     192\n",
      "5     190\n",
      "6     188\n",
      "7     186\n",
      "8     184\n",
      "9     182\n",
      "10    180\n",
      "11    178\n",
      "12    176\n",
      "13    174\n",
      "14    172\n",
      "15    170\n",
      "16    168\n",
      "17    166\n",
      "18    164\n",
      "19    162\n",
      "20    160\n",
      "21    158\n",
      "22    156\n",
      "23    154\n",
      "24    152\n",
      "25    150\n",
      "26    148\n",
      "27    146\n",
      "28    144\n",
      "29    142\n",
      "30    140\n",
      "31    138\n",
      "32    136\n",
      "33    134\n",
      "34    132\n",
      "35    130\n",
      "36    128\n",
      "37    126\n",
      "38    124\n",
      "39    122\n",
      "40    120\n",
      "41    118\n",
      "42    116\n",
      "43    114\n",
      "44    112\n",
      "45    110\n",
      "46    108\n",
      "47    106\n",
      "48    104\n",
      "49    102\n",
      "50    100\n",
      "dtype: int64\n"
     ]
    }
   ],
   "source": [
    "#    1.define a series with even values from 100 to 200 in descending order\n",
    "\n",
    "import numpy as np\n",
    "\n",
    "import pandas as pd\n",
    "np_arr=np.array([i for i in range(100,201)])\n",
    "even_ctr = list(filter(lambda x: (x%2 == 0) , np_arr))\n",
    "even_ctr.reverse()\n",
    "print(even_ctr)\n",
    "s=pd.Series(even_ctr)\n",
    "print(s)"
   ]
  },
  {
   "cell_type": "code",
   "execution_count": 37,
   "metadata": {},
   "outputs": [
    {
     "name": "stdout",
     "output_type": "stream",
     "text": [
      "100    200\n",
      "101    198\n",
      "102    196\n",
      "103    194\n",
      "104    192\n",
      "105    190\n",
      "106    188\n",
      "107    186\n",
      "108    184\n",
      "109    182\n",
      "110    180\n",
      "111    178\n",
      "112    176\n",
      "113    174\n",
      "114    172\n",
      "115    170\n",
      "116    168\n",
      "117    166\n",
      "118    164\n",
      "119    162\n",
      "120    160\n",
      "121    158\n",
      "122    156\n",
      "123    154\n",
      "124    152\n",
      "125    150\n",
      "126    148\n",
      "127    146\n",
      "128    144\n",
      "129    142\n",
      "130    140\n",
      "131    138\n",
      "132    136\n",
      "133    134\n",
      "134    132\n",
      "135    130\n",
      "136    128\n",
      "137    126\n",
      "138    124\n",
      "139    122\n",
      "140    120\n",
      "141    118\n",
      "142    116\n",
      "143    114\n",
      "144    112\n",
      "145    110\n",
      "146    108\n",
      "147    106\n",
      "148    104\n",
      "149    102\n",
      "150    100\n",
      "dtype: int64\n"
     ]
    }
   ],
   "source": [
    "#2.assign index to this series starting from 100\n",
    "a=[i for i in range(100,151)]\n",
    "\n",
    "s = pd.Series(even_ctr,index=a)\n",
    "print(s)\n",
    "\n",
    "\n"
   ]
  },
  {
   "cell_type": "code",
   "execution_count": 9,
   "metadata": {},
   "outputs": [
    {
     "name": "stdout",
     "output_type": "stream",
     "text": [
      "          a         b         c         d         e         f\n",
      "1  0.280531 -0.579159  1.721483  0.180573  1.248925 -0.533490\n",
      "2  0.186442  0.057043 -0.618302  0.534337  0.210615 -0.307364\n",
      "3 -0.624562 -0.365750  0.389500 -1.451368 -0.798327 -0.631632\n",
      "4 -0.354016 -0.694592  0.270796  1.340966 -0.309462 -0.521989\n",
      "5 -1.423846 -0.899718  0.133632  1.205914 -0.505602 -0.821127\n",
      "6 -0.852550  0.314034  0.408512  0.118376 -1.404498  1.004763\n",
      "7  0.172898 -0.737006  0.337596 -0.345146 -0.355607 -1.360840\n",
      "8  1.690644 -1.558976 -0.477417 -0.190773  0.779745 -0.638983\n"
     ]
    }
   ],
   "source": [
    "#3.create a dataframe of random values of shape 8*6 . Assign index as numerical values and \n",
    "#column names from a to f and using loc and iloc print values of rows 3,4 and columns b and e\n",
    "import numpy as np\n",
    "import pandas as pd\n",
    "data=pd.DataFrame(np.random.randn(8,6),index='1 2 3 4 5 6 7 8'.split(),columns='a b c d e f'.split())\n",
    "print(data)\n"
   ]
  },
  {
   "cell_type": "code",
   "execution_count": 17,
   "metadata": {},
   "outputs": [
    {
     "data": {
      "text/html": [
       "<div>\n",
       "<style scoped>\n",
       "    .dataframe tbody tr th:only-of-type {\n",
       "        vertical-align: middle;\n",
       "    }\n",
       "\n",
       "    .dataframe tbody tr th {\n",
       "        vertical-align: top;\n",
       "    }\n",
       "\n",
       "    .dataframe thead th {\n",
       "        text-align: right;\n",
       "    }\n",
       "</style>\n",
       "<table border=\"1\" class=\"dataframe\">\n",
       "  <thead>\n",
       "    <tr style=\"text-align: right;\">\n",
       "      <th></th>\n",
       "      <th>a</th>\n",
       "      <th>b</th>\n",
       "      <th>c</th>\n",
       "      <th>d</th>\n",
       "      <th>e</th>\n",
       "      <th>f</th>\n",
       "    </tr>\n",
       "  </thead>\n",
       "  <tbody>\n",
       "    <tr>\n",
       "      <td>4</td>\n",
       "      <td>-0.354016</td>\n",
       "      <td>-0.694592</td>\n",
       "      <td>0.270796</td>\n",
       "      <td>1.340966</td>\n",
       "      <td>-0.309462</td>\n",
       "      <td>-0.521989</td>\n",
       "    </tr>\n",
       "    <tr>\n",
       "      <td>5</td>\n",
       "      <td>-1.423846</td>\n",
       "      <td>-0.899718</td>\n",
       "      <td>0.133632</td>\n",
       "      <td>1.205914</td>\n",
       "      <td>-0.505602</td>\n",
       "      <td>-0.821127</td>\n",
       "    </tr>\n",
       "  </tbody>\n",
       "</table>\n",
       "</div>"
      ],
      "text/plain": [
       "          a         b         c         d         e         f\n",
       "4 -0.354016 -0.694592  0.270796  1.340966 -0.309462 -0.521989\n",
       "5 -1.423846 -0.899718  0.133632  1.205914 -0.505602 -0.821127"
      ]
     },
     "execution_count": 17,
     "metadata": {},
     "output_type": "execute_result"
    }
   ],
   "source": [
    "data.iloc[3:5]"
   ]
  },
  {
   "cell_type": "code",
   "execution_count": 24,
   "metadata": {},
   "outputs": [
    {
     "name": "stdout",
     "output_type": "stream",
     "text": [
      "          b         e\n",
      "1 -0.579159  1.248925\n",
      "2  0.057043  0.210615\n",
      "3 -0.365750 -0.798327\n",
      "4 -0.694592 -0.309462\n",
      "5 -0.899718 -0.505602\n",
      "6  0.314034 -1.404498\n",
      "7 -0.737006 -0.355607\n",
      "8 -1.558976  0.779745\n"
     ]
    }
   ],
   "source": [
    "print(data[['b','e']])"
   ]
  },
  {
   "cell_type": "code",
   "execution_count": 7,
   "metadata": {},
   "outputs": [
    {
     "name": "stdout",
     "output_type": "stream",
     "text": [
      "[('cse', 1), ('cse', 2), ('cse', 3), ('cse', 4), ('cse', 5), ('cse', 6), ('IT', 1), ('IT', 2), ('IT', 3), ('IT', 4), ('IT', 5), ('IT', 6)]\n"
     ]
    }
   ],
   "source": [
    "#4. create a multi-index dataframe and 1st index is [\"cse\",\"IT\"] and second index is 1 to 6 numbers. \n",
    "#use 2 columns A,B and assign random values to it \n",
    "arrays = [\n",
    "          [\"cse\", \"cse\", \"cse\", \"cse\", \"cse\", \"cse\", \"IT\", \"IT\",\"IT\",\"IT\",\"IT\",\"IT\"],\n",
    "          [1, 2, 3, 4, 5, 6,1,2,3,4,5,6],\n",
    "         ]\n",
    "tuples = list(zip(*arrays))\n",
    "print(tuples)"
   ]
  },
  {
   "cell_type": "code",
   "execution_count": 19,
   "metadata": {},
   "outputs": [
    {
     "name": "stdout",
     "output_type": "stream",
     "text": [
      "MultiIndex([('cse', 1),\n",
      "            ('cse', 2),\n",
      "            ('cse', 3),\n",
      "            ('cse', 4),\n",
      "            ('cse', 5),\n",
      "            ('cse', 6),\n",
      "            ( 'IT', 1),\n",
      "            ( 'IT', 2),\n",
      "            ( 'IT', 3),\n",
      "            ( 'IT', 4),\n",
      "            ( 'IT', 5),\n",
      "            ( 'IT', 6)],\n",
      "           names=['A', 'B'])\n"
     ]
    }
   ],
   "source": [
    "import numpy as np\n",
    "import pandas as pd\n",
    "index = pd.MultiIndex.from_tuples(tuples, names=[\"A\", \"B\"])\n",
    "\n",
    "print(index)"
   ]
  },
  {
   "cell_type": "code",
   "execution_count": 20,
   "metadata": {},
   "outputs": [
    {
     "name": "stdout",
     "output_type": "stream",
     "text": [
      "A    B\n",
      "cse  1   -0.163156\n",
      "     2    0.295579\n",
      "     3    0.463423\n",
      "     4    1.300406\n",
      "     5    0.085821\n",
      "     6   -1.758264\n",
      "IT   1   -0.528407\n",
      "     2    0.979451\n",
      "     3   -0.113647\n",
      "     4   -0.321851\n",
      "     5    0.559033\n",
      "     6    2.679262\n",
      "dtype: float64\n"
     ]
    }
   ],
   "source": [
    "s = pd.Series(np.random.randn(12), index=index)\n",
    "print(s)"
   ]
  },
  {
   "cell_type": "code",
   "execution_count": 21,
   "metadata": {},
   "outputs": [
    {
     "data": {
      "text/plain": [
       "1.3004063336555933"
      ]
     },
     "execution_count": 21,
     "metadata": {},
     "output_type": "execute_result"
    }
   ],
   "source": [
    "#5.print the row value of number 4 from cse\n",
    "\n",
    "s.loc[(\"cse\",4)]"
   ]
  },
  {
   "cell_type": "code",
   "execution_count": 22,
   "metadata": {},
   "outputs": [
    {
     "name": "stdout",
     "output_type": "stream",
     "text": [
      "A    B\n",
      "cse  1   -0.163156\n",
      "     2    0.295579\n",
      "     3    0.463423\n",
      "     4    1.300406\n",
      "     5    0.085821\n",
      "     6   -1.758264\n",
      "IT   1   -0.528407\n",
      "     2    0.979451\n",
      "     3   -0.113647\n",
      "     4   -0.321851\n",
      "     5    0.559033\n",
      "     6    2.679262\n",
      "dtype: float64\n"
     ]
    },
    {
     "data": {
      "text/plain": [
       "-0.11364733269116158"
      ]
     },
     "execution_count": 22,
     "metadata": {},
     "output_type": "execute_result"
    }
   ],
   "source": [
    "# 6.print the row value of 3,5 from IT\n",
    "print(s)\n",
    "s.loc[(\"IT\",3)]\n"
   ]
  },
  {
   "cell_type": "code",
   "execution_count": 23,
   "metadata": {},
   "outputs": [
    {
     "name": "stdout",
     "output_type": "stream",
     "text": [
      "A    B\n",
      "cse  1   -0.163156\n",
      "     2    0.295579\n",
      "     3    0.463423\n",
      "     4    1.300406\n",
      "     5    0.085821\n",
      "     6   -1.758264\n",
      "IT   1   -0.528407\n",
      "     2    0.979451\n",
      "     3   -0.113647\n",
      "     4   -0.321851\n",
      "     5    0.559033\n",
      "     6    2.679262\n",
      "dtype: float64\n"
     ]
    },
    {
     "data": {
      "text/plain": [
       "0.5590332261906564"
      ]
     },
     "execution_count": 23,
     "metadata": {},
     "output_type": "execute_result"
    }
   ],
   "source": [
    "print(s)\n",
    "s.loc[(\"IT\",5)]"
   ]
  },
  {
   "cell_type": "code",
   "execution_count": null,
   "metadata": {},
   "outputs": [],
   "source": []
  }
 ],
 "metadata": {
  "kernelspec": {
   "display_name": "Python 3",
   "language": "python",
   "name": "python3"
  },
  "language_info": {
   "codemirror_mode": {
    "name": "ipython",
    "version": 3
   },
   "file_extension": ".py",
   "mimetype": "text/x-python",
   "name": "python",
   "nbconvert_exporter": "python",
   "pygments_lexer": "ipython3",
   "version": "3.7.4"
  }
 },
 "nbformat": 4,
 "nbformat_minor": 2
}
